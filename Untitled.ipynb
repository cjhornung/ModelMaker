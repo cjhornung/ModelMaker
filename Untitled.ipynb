{
 "cells": [
  {
   "cell_type": "code",
   "execution_count": 62,
   "id": "45f6fc61-681b-4373-be2c-b3feb9a43d7f",
   "metadata": {
    "tags": []
   },
   "outputs": [],
   "source": [
    "import pandas as pd\n",
    "import random"
   ]
  },
  {
   "cell_type": "code",
   "execution_count": 63,
   "id": "2480d918-e489-4af0-9c2b-17bffc0ee6f5",
   "metadata": {
    "tags": []
   },
   "outputs": [],
   "source": [
    "backpacks = list(range(93, 103))\n",
    "helmets = list(range(73,83))\n",
    "heads=list(range(83,93))\n",
    "heads.append(137)\n",
    "heads.append(138)\n",
    "seargant_heads=list(range(130,135))\n",
    "sarg_shoulder=list(range(135,137))\n",
    "we_shoulder=list(range(113,123))\n",
    "shoulder=list(range(103,113))\n",
    "torsos=list(range(5,15))"
   ]
  },
  {
   "cell_type": "code",
   "execution_count": 64,
   "id": "973ce773-d392-401b-8a0a-a407febdfd0c",
   "metadata": {
    "tags": []
   },
   "outputs": [
    {
     "data": {
      "text/plain": [
       "[103, 104, 105, 106, 107, 108, 109, 110, 111, 112]"
      ]
     },
     "execution_count": 64,
     "metadata": {},
     "output_type": "execute_result"
    }
   ],
   "source": [
    "shoulder"
   ]
  },
  {
   "cell_type": "code",
   "execution_count": 69,
   "id": "bccdf9d0-7c27-4501-8ada-e57960eee403",
   "metadata": {
    "tags": []
   },
   "outputs": [],
   "source": [
    "shulder_num=random.randint(0, len(shoulder))"
   ]
  },
  {
   "cell_type": "code",
   "execution_count": 70,
   "id": "55c17104-7d2e-4145-a921-beec5af6bbde",
   "metadata": {
    "tags": []
   },
   "outputs": [
    {
     "data": {
      "text/plain": [
       "0"
      ]
     },
     "execution_count": 70,
     "metadata": {},
     "output_type": "execute_result"
    }
   ],
   "source": [
    "shulder_num"
   ]
  },
  {
   "cell_type": "code",
   "execution_count": 78,
   "id": "7d357fb6-22b8-4f42-b807-85ccfa7e58f2",
   "metadata": {
    "tags": []
   },
   "outputs": [],
   "source": [
    "def model():\n",
    "    array=[0,1]\n",
    "    return array\n",
    "\n",
    "# Example usage\n",
    "#greet()"
   ]
  },
  {
   "cell_type": "code",
   "execution_count": 79,
   "id": "782b6491-6958-411c-a0c9-8357ee3479bc",
   "metadata": {
    "tags": []
   },
   "outputs": [
    {
     "data": {
      "text/plain": [
       "[0, 1]"
      ]
     },
     "execution_count": 79,
     "metadata": {},
     "output_type": "execute_result"
    }
   ],
   "source": [
    "model()"
   ]
  },
  {
   "cell_type": "code",
   "execution_count": null,
   "id": "7cbda21e-d23f-44e9-a7dd-61763f76df8f",
   "metadata": {},
   "outputs": [],
   "source": []
  }
 ],
 "metadata": {
  "kernelspec": {
   "display_name": "Python 3 (ipykernel)",
   "language": "python",
   "name": "python3"
  },
  "language_info": {
   "codemirror_mode": {
    "name": "ipython",
    "version": 3
   },
   "file_extension": ".py",
   "mimetype": "text/x-python",
   "name": "python",
   "nbconvert_exporter": "python",
   "pygments_lexer": "ipython3",
   "version": "3.10.11"
  }
 },
 "nbformat": 4,
 "nbformat_minor": 5
}
