{
 "cells": [
  {
   "cell_type": "code",
   "execution_count": 47,
   "id": "45f6fc61-681b-4373-be2c-b3feb9a43d7f",
   "metadata": {
    "tags": []
   },
   "outputs": [],
   "source": [
    "import pandas as pd\n",
    "import random"
   ]
  },
  {
   "cell_type": "code",
   "execution_count": 48,
   "id": "2480d918-e489-4af0-9c2b-17bffc0ee6f5",
   "metadata": {
    "tags": []
   },
   "outputs": [],
   "source": [
    "backpacks = list(range(93, 103))\n",
    "heads = list(range(73,93))\n",
    "heads.append(137)\n",
    "heads.append(138)\n",
    "sergeant_heads=list(range(130,135))\n",
    "sergeant_right_pauldrons=list(range(135,137))\n",
    "left_pauldrons=list(range(113,123))\n",
    "right_pauldrons=list(range(103,113))\n",
    "models=list(range(9,19))\n",
    "plasma_pistols=[8,30,16]\n",
    "bolter_pistol=[7,29,15,23,36,44,50,56,64,72]\n",
    "one_hand_weapon=[131,6,28,14,22,35,43,49,55,63,71]\n",
    "two_hand_weapons_left_hand=[124,128]\n",
    "two_hand_weapons_right_hand=[125,129]"
   ]
  },
  {
   "cell_type": "code",
   "execution_count": 49,
   "id": "973ce773-d392-401b-8a0a-a407febdfd0c",
   "metadata": {
    "tags": []
   },
   "outputs": [
    {
     "data": {
      "text/plain": [
       "11"
      ]
     },
     "execution_count": 49,
     "metadata": {},
     "output_type": "execute_result"
    }
   ],
   "source": [
    "len(one_hand_weapon)"
   ]
  },
  {
   "cell_type": "code",
   "execution_count": 50,
   "id": "3d0d405b-2aa3-45a1-b5c0-4468e61e0c18",
   "metadata": {
    "tags": []
   },
   "outputs": [],
   "source": [
    "#rules\n",
    "#the model with backpack 96 must have a plasma pistol\n",
    "#the sergeant model must also have a plasma pistol\n",
    "#for each squad of 10, we must use all plasma pistols and all two handed weapons\n",
    "#sergeant can use any left_pauldron but must have one of the sergeant_right_pauldrons [135,136] as his right pauldron \n",
    "#sergeants can be any of m,odels [9,11,14,15,18] \n",
    "\n",
    "#models [10,12,13,16,17] are limited to right_pauldrons [105,106,107,110,111]\n",
    "#models [9,11,14,15,18] are limited to right_pauldrons [103,104,108,109,112] or [135,136] if they're a sergeant\n"
   ]
  },
  {
   "cell_type": "code",
   "execution_count": 51,
   "id": "bccdf9d0-7c27-4501-8ada-e57960eee403",
   "metadata": {
    "tags": []
   },
   "outputs": [],
   "source": [
    "shulder_num=random.randint(0, len(right_pauldrons))"
   ]
  },
  {
   "cell_type": "code",
   "execution_count": 52,
   "id": "55c17104-7d2e-4145-a921-beec5af6bbde",
   "metadata": {
    "tags": []
   },
   "outputs": [
    {
     "data": {
      "text/plain": [
       "5"
      ]
     },
     "execution_count": 52,
     "metadata": {},
     "output_type": "execute_result"
    }
   ],
   "source": [
    "shulder_num"
   ]
  },
  {
   "cell_type": "code",
   "execution_count": 53,
   "id": "7d357fb6-22b8-4f42-b807-85ccfa7e58f2",
   "metadata": {
    "tags": []
   },
   "outputs": [],
   "source": [
    "def model():\n",
    "    array=[0,1]\n",
    "    return array\n",
    "\n",
    "# Example usage\n",
    "#greet()"
   ]
  },
  {
   "cell_type": "code",
   "execution_count": 54,
   "id": "782b6491-6958-411c-a0c9-8357ee3479bc",
   "metadata": {
    "tags": []
   },
   "outputs": [
    {
     "data": {
      "text/plain": [
       "[0, 1]"
      ]
     },
     "execution_count": 54,
     "metadata": {},
     "output_type": "execute_result"
    }
   ],
   "source": [
    "model()"
   ]
  },
  {
   "cell_type": "code",
   "execution_count": 55,
   "id": "7cbda21e-d23f-44e9-a7dd-61763f76df8f",
   "metadata": {},
   "outputs": [],
   "source": [
    "#this is the first squad and also the skeleton for future loadouts\n",
    "squad_1 = {\n",
    "    \"Model 9\": {\n",
    "        \"right_pauldron\": \"135\",\n",
    "        \"left_pauldron\": \"118\",\n",
    "        \"backpack\":\"93\", \n",
    "        \"head\": \"130\"\n",
    "    },\n",
    "    \"Model 10\": {\n",
    "        \"right_pauldron\": \"110\",\n",
    "        \"left_pauldron\": \"117\",\n",
    "        \"backpack\":\"96\",\n",
    "        \"head\": \"75\"\n",
    "    },\n",
    "    \"Model 11\": {\n",
    "        \"right_pauldron\": \"103\",\n",
    "        \"left_pauldron\": \"119\",\n",
    "        \"backpack\":\"95\",\n",
    "        \"head\": \"76\"\n",
    "    },\n",
    "    \"Model 12\": {\n",
    "        \"right_pauldron\": \"106\",\n",
    "        \"left_pauldron\": \"116\",\n",
    "        \"backpack\":\"94\",\n",
    "        \"head\": \"74\"\n",
    "    },\n",
    "    \"Model 13\": {\n",
    "        \"right_pauldron\": \"107\",\n",
    "        \"left_pauldron\": \"121\",\n",
    "        \"backpack\":\"97\",\n",
    "        \"head\": \"77\"\n",
    "    },\n",
    "    \"Model 14\": {\n",
    "        \"right_pauldron\": \"108\",\n",
    "        \"left_pauldron\": \"113\",\n",
    "        \"backpack\":\"98\",\n",
    "        \"head\": \"78\"\n",
    "    },\n",
    "    \"Model 15\": {\n",
    "        \"right_pauldron\": \"109\",\n",
    "        \"left_pauldron\": \"120\",\n",
    "        \"backpack\":\"99\",\n",
    "        \"head\": \"79\"\n",
    "    },\n",
    "    \"Model 16\": {\n",
    "        \"right_pauldron\": \"110\",\n",
    "        \"left_pauldron\": \"114\",\n",
    "        \"backpack\":\"100\",\n",
    "        \"head\": \"80\"\n",
    "    },\n",
    "    \"Model 17\": {\n",
    "        \"right_pauldron\": \"111\",\n",
    "        \"left_pauldron\": \"115\",\n",
    "        \"backpack\":\"101\",\n",
    "        \"head\": \"73\"\n",
    "    },\n",
    "    \"Model 18\": {\n",
    "        \"right_pauldron\": \"112\",\n",
    "        \"left_pauldron\": \"122\",\n",
    "        \"backpack\":\"102\",\n",
    "        \"head\": \"81\"\n",
    "    }\n",
    "}"
   ]
  },
  {
   "cell_type": "code",
   "execution_count": null,
   "id": "09604de9-92a5-4b8d-8dd5-b3776514a2e0",
   "metadata": {},
   "outputs": [],
   "source": []
  }
 ],
 "metadata": {
  "kernelspec": {
   "display_name": "Python 3 (ipykernel)",
   "language": "python",
   "name": "python3"
  },
  "language_info": {
   "codemirror_mode": {
    "name": "ipython",
    "version": 3
   },
   "file_extension": ".py",
   "mimetype": "text/x-python",
   "name": "python",
   "nbconvert_exporter": "python",
   "pygments_lexer": "ipython3",
   "version": "3.10.11"
  }
 },
 "nbformat": 4,
 "nbformat_minor": 5
}
